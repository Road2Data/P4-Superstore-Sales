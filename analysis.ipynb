{
 "cells": [
  {
   "cell_type": "code",
   "execution_count": 50,
   "metadata": {
    "collapsed": true
   },
   "outputs": [],
   "source": [
    "import sqlite3\n",
    "from sqlalchemy import create_engine, text\n",
    "import pandas as pd\n",
    "import matplotlib.pyplot as plt\n",
    "import seaborn as sns\n",
    "import plotly.express as px"
   ]
  },
  {
   "cell_type": "code",
   "execution_count": 12,
   "outputs": [],
   "source": [
    "with open(\"authInfo.txt\") as file:\n",
    "    id = file.read()\n",
    "\n",
    "# Create SQLAlchemy engine obj to act as conn\n",
    "url = \"mysql://{}@localhost/superstore\".format(id)\n",
    "engine = create_engine(url)"
   ],
   "metadata": {
    "collapsed": false
   }
  },
  {
   "cell_type": "code",
   "execution_count": 52,
   "outputs": [
    {
     "data": {
      "text/plain": "   YearMonth  TotalSales  DiscountValue     NetSales   NetProfit\n0    2014-01          79          10.00   14236.8950   2450.1907\n1    2014-02          46           8.10    4519.8920    862.3084\n2    2014-03         157          26.30   55691.0090    498.7299\n3    2014-04         135          14.85   28295.3450   3488.8352\n4    2014-05         122          18.95   23648.2870   2738.7096\n5    2014-06         135          23.22   34595.1276   4976.5244\n6    2014-07         143          24.55   33946.3930   -841.4826\n7    2014-08         153          20.05   27909.4685   5318.1050\n8    2014-09         268          42.87   81777.3508   8328.0994\n9    2014-10         159          25.45   31453.3930   3448.2573\n10   2014-11         318          48.07   78628.7167   9292.1269\n11   2014-12         278          53.05   69545.6205   8983.5699\n12   2015-01          58          10.32   18174.0756  -3281.0070\n13   2015-02          64           8.30   11951.4110   2813.8508\n14   2015-03         138          19.34   38726.2520   9732.0978\n15   2015-04         160          28.15   34195.2085   4187.4962\n16   2015-05         146          24.25   30131.6865   4667.8690\n17   2015-06         138          23.80   24797.2920   3335.5572\n18   2015-07         140          23.85   28765.3250   3288.6483\n19   2015-08         159          24.87   36898.3322   5355.8084\n20   2015-09         293          41.30   64595.9180   8209.1627\n21   2015-10         166          26.95   31404.9235   2817.3660\n22   2015-11         324          52.59   75972.5635  12474.7884\n23   2015-12         316          43.37   74919.5212   8016.9659\n24   2016-01          89          11.80   18542.4910   2824.8233\n25   2016-02          83           8.00   22978.8150   5004.5795\n26   2016-03         163          31.12   51715.8750   3611.9680\n27   2016-04         170          26.50   38750.0390   2977.8149\n28   2016-05         225          41.50   56987.7280   8662.1464\n29   2016-06         199          27.60   40344.5340   4750.3781\n30   2016-07         201          32.05   39261.9630   4432.8779\n31   2016-08         176          32.67   31115.3743   2062.0693\n32   2016-09         363          54.24   73410.0249   9328.6576\n33   2016-10         196          28.85   59687.7450  16243.1425\n34   2016-11         370          58.32   79411.9658   4011.4075\n35   2016-12         352          47.67   96999.0430  17885.3093\n36   2017-01         155          25.00   43971.3740   7140.4391\n37   2017-02         107          19.47   20301.1334   1613.8720\n38   2017-03         238          31.14   58872.3528  14751.8915\n39   2017-04         203          39.47   36521.5361    933.2900\n40   2017-05         242          36.89   44261.1102   6342.5828\n41   2017-06         245          42.12   52981.7257   8223.3357\n42   2017-07         226          31.65   45264.4160   6952.6212\n43   2017-08         218          31.30   63120.8880   9040.9557\n44   2017-09         459          67.65   87866.6520  10991.5556\n45   2017-10         298          51.92   77776.9232   9275.2755\n46   2017-11         459          73.89  118447.8250   9690.1037\n47   2017-12         462          67.72   83829.3188   8483.3468",
      "text/html": "<div>\n<style scoped>\n    .dataframe tbody tr th:only-of-type {\n        vertical-align: middle;\n    }\n\n    .dataframe tbody tr th {\n        vertical-align: top;\n    }\n\n    .dataframe thead th {\n        text-align: right;\n    }\n</style>\n<table border=\"1\" class=\"dataframe\">\n  <thead>\n    <tr style=\"text-align: right;\">\n      <th></th>\n      <th>YearMonth</th>\n      <th>TotalSales</th>\n      <th>DiscountValue</th>\n      <th>NetSales</th>\n      <th>NetProfit</th>\n    </tr>\n  </thead>\n  <tbody>\n    <tr>\n      <th>0</th>\n      <td>2014-01</td>\n      <td>79</td>\n      <td>10.00</td>\n      <td>14236.8950</td>\n      <td>2450.1907</td>\n    </tr>\n    <tr>\n      <th>1</th>\n      <td>2014-02</td>\n      <td>46</td>\n      <td>8.10</td>\n      <td>4519.8920</td>\n      <td>862.3084</td>\n    </tr>\n    <tr>\n      <th>2</th>\n      <td>2014-03</td>\n      <td>157</td>\n      <td>26.30</td>\n      <td>55691.0090</td>\n      <td>498.7299</td>\n    </tr>\n    <tr>\n      <th>3</th>\n      <td>2014-04</td>\n      <td>135</td>\n      <td>14.85</td>\n      <td>28295.3450</td>\n      <td>3488.8352</td>\n    </tr>\n    <tr>\n      <th>4</th>\n      <td>2014-05</td>\n      <td>122</td>\n      <td>18.95</td>\n      <td>23648.2870</td>\n      <td>2738.7096</td>\n    </tr>\n    <tr>\n      <th>5</th>\n      <td>2014-06</td>\n      <td>135</td>\n      <td>23.22</td>\n      <td>34595.1276</td>\n      <td>4976.5244</td>\n    </tr>\n    <tr>\n      <th>6</th>\n      <td>2014-07</td>\n      <td>143</td>\n      <td>24.55</td>\n      <td>33946.3930</td>\n      <td>-841.4826</td>\n    </tr>\n    <tr>\n      <th>7</th>\n      <td>2014-08</td>\n      <td>153</td>\n      <td>20.05</td>\n      <td>27909.4685</td>\n      <td>5318.1050</td>\n    </tr>\n    <tr>\n      <th>8</th>\n      <td>2014-09</td>\n      <td>268</td>\n      <td>42.87</td>\n      <td>81777.3508</td>\n      <td>8328.0994</td>\n    </tr>\n    <tr>\n      <th>9</th>\n      <td>2014-10</td>\n      <td>159</td>\n      <td>25.45</td>\n      <td>31453.3930</td>\n      <td>3448.2573</td>\n    </tr>\n    <tr>\n      <th>10</th>\n      <td>2014-11</td>\n      <td>318</td>\n      <td>48.07</td>\n      <td>78628.7167</td>\n      <td>9292.1269</td>\n    </tr>\n    <tr>\n      <th>11</th>\n      <td>2014-12</td>\n      <td>278</td>\n      <td>53.05</td>\n      <td>69545.6205</td>\n      <td>8983.5699</td>\n    </tr>\n    <tr>\n      <th>12</th>\n      <td>2015-01</td>\n      <td>58</td>\n      <td>10.32</td>\n      <td>18174.0756</td>\n      <td>-3281.0070</td>\n    </tr>\n    <tr>\n      <th>13</th>\n      <td>2015-02</td>\n      <td>64</td>\n      <td>8.30</td>\n      <td>11951.4110</td>\n      <td>2813.8508</td>\n    </tr>\n    <tr>\n      <th>14</th>\n      <td>2015-03</td>\n      <td>138</td>\n      <td>19.34</td>\n      <td>38726.2520</td>\n      <td>9732.0978</td>\n    </tr>\n    <tr>\n      <th>15</th>\n      <td>2015-04</td>\n      <td>160</td>\n      <td>28.15</td>\n      <td>34195.2085</td>\n      <td>4187.4962</td>\n    </tr>\n    <tr>\n      <th>16</th>\n      <td>2015-05</td>\n      <td>146</td>\n      <td>24.25</td>\n      <td>30131.6865</td>\n      <td>4667.8690</td>\n    </tr>\n    <tr>\n      <th>17</th>\n      <td>2015-06</td>\n      <td>138</td>\n      <td>23.80</td>\n      <td>24797.2920</td>\n      <td>3335.5572</td>\n    </tr>\n    <tr>\n      <th>18</th>\n      <td>2015-07</td>\n      <td>140</td>\n      <td>23.85</td>\n      <td>28765.3250</td>\n      <td>3288.6483</td>\n    </tr>\n    <tr>\n      <th>19</th>\n      <td>2015-08</td>\n      <td>159</td>\n      <td>24.87</td>\n      <td>36898.3322</td>\n      <td>5355.8084</td>\n    </tr>\n    <tr>\n      <th>20</th>\n      <td>2015-09</td>\n      <td>293</td>\n      <td>41.30</td>\n      <td>64595.9180</td>\n      <td>8209.1627</td>\n    </tr>\n    <tr>\n      <th>21</th>\n      <td>2015-10</td>\n      <td>166</td>\n      <td>26.95</td>\n      <td>31404.9235</td>\n      <td>2817.3660</td>\n    </tr>\n    <tr>\n      <th>22</th>\n      <td>2015-11</td>\n      <td>324</td>\n      <td>52.59</td>\n      <td>75972.5635</td>\n      <td>12474.7884</td>\n    </tr>\n    <tr>\n      <th>23</th>\n      <td>2015-12</td>\n      <td>316</td>\n      <td>43.37</td>\n      <td>74919.5212</td>\n      <td>8016.9659</td>\n    </tr>\n    <tr>\n      <th>24</th>\n      <td>2016-01</td>\n      <td>89</td>\n      <td>11.80</td>\n      <td>18542.4910</td>\n      <td>2824.8233</td>\n    </tr>\n    <tr>\n      <th>25</th>\n      <td>2016-02</td>\n      <td>83</td>\n      <td>8.00</td>\n      <td>22978.8150</td>\n      <td>5004.5795</td>\n    </tr>\n    <tr>\n      <th>26</th>\n      <td>2016-03</td>\n      <td>163</td>\n      <td>31.12</td>\n      <td>51715.8750</td>\n      <td>3611.9680</td>\n    </tr>\n    <tr>\n      <th>27</th>\n      <td>2016-04</td>\n      <td>170</td>\n      <td>26.50</td>\n      <td>38750.0390</td>\n      <td>2977.8149</td>\n    </tr>\n    <tr>\n      <th>28</th>\n      <td>2016-05</td>\n      <td>225</td>\n      <td>41.50</td>\n      <td>56987.7280</td>\n      <td>8662.1464</td>\n    </tr>\n    <tr>\n      <th>29</th>\n      <td>2016-06</td>\n      <td>199</td>\n      <td>27.60</td>\n      <td>40344.5340</td>\n      <td>4750.3781</td>\n    </tr>\n    <tr>\n      <th>30</th>\n      <td>2016-07</td>\n      <td>201</td>\n      <td>32.05</td>\n      <td>39261.9630</td>\n      <td>4432.8779</td>\n    </tr>\n    <tr>\n      <th>31</th>\n      <td>2016-08</td>\n      <td>176</td>\n      <td>32.67</td>\n      <td>31115.3743</td>\n      <td>2062.0693</td>\n    </tr>\n    <tr>\n      <th>32</th>\n      <td>2016-09</td>\n      <td>363</td>\n      <td>54.24</td>\n      <td>73410.0249</td>\n      <td>9328.6576</td>\n    </tr>\n    <tr>\n      <th>33</th>\n      <td>2016-10</td>\n      <td>196</td>\n      <td>28.85</td>\n      <td>59687.7450</td>\n      <td>16243.1425</td>\n    </tr>\n    <tr>\n      <th>34</th>\n      <td>2016-11</td>\n      <td>370</td>\n      <td>58.32</td>\n      <td>79411.9658</td>\n      <td>4011.4075</td>\n    </tr>\n    <tr>\n      <th>35</th>\n      <td>2016-12</td>\n      <td>352</td>\n      <td>47.67</td>\n      <td>96999.0430</td>\n      <td>17885.3093</td>\n    </tr>\n    <tr>\n      <th>36</th>\n      <td>2017-01</td>\n      <td>155</td>\n      <td>25.00</td>\n      <td>43971.3740</td>\n      <td>7140.4391</td>\n    </tr>\n    <tr>\n      <th>37</th>\n      <td>2017-02</td>\n      <td>107</td>\n      <td>19.47</td>\n      <td>20301.1334</td>\n      <td>1613.8720</td>\n    </tr>\n    <tr>\n      <th>38</th>\n      <td>2017-03</td>\n      <td>238</td>\n      <td>31.14</td>\n      <td>58872.3528</td>\n      <td>14751.8915</td>\n    </tr>\n    <tr>\n      <th>39</th>\n      <td>2017-04</td>\n      <td>203</td>\n      <td>39.47</td>\n      <td>36521.5361</td>\n      <td>933.2900</td>\n    </tr>\n    <tr>\n      <th>40</th>\n      <td>2017-05</td>\n      <td>242</td>\n      <td>36.89</td>\n      <td>44261.1102</td>\n      <td>6342.5828</td>\n    </tr>\n    <tr>\n      <th>41</th>\n      <td>2017-06</td>\n      <td>245</td>\n      <td>42.12</td>\n      <td>52981.7257</td>\n      <td>8223.3357</td>\n    </tr>\n    <tr>\n      <th>42</th>\n      <td>2017-07</td>\n      <td>226</td>\n      <td>31.65</td>\n      <td>45264.4160</td>\n      <td>6952.6212</td>\n    </tr>\n    <tr>\n      <th>43</th>\n      <td>2017-08</td>\n      <td>218</td>\n      <td>31.30</td>\n      <td>63120.8880</td>\n      <td>9040.9557</td>\n    </tr>\n    <tr>\n      <th>44</th>\n      <td>2017-09</td>\n      <td>459</td>\n      <td>67.65</td>\n      <td>87866.6520</td>\n      <td>10991.5556</td>\n    </tr>\n    <tr>\n      <th>45</th>\n      <td>2017-10</td>\n      <td>298</td>\n      <td>51.92</td>\n      <td>77776.9232</td>\n      <td>9275.2755</td>\n    </tr>\n    <tr>\n      <th>46</th>\n      <td>2017-11</td>\n      <td>459</td>\n      <td>73.89</td>\n      <td>118447.8250</td>\n      <td>9690.1037</td>\n    </tr>\n    <tr>\n      <th>47</th>\n      <td>2017-12</td>\n      <td>462</td>\n      <td>67.72</td>\n      <td>83829.3188</td>\n      <td>8483.3468</td>\n    </tr>\n  </tbody>\n</table>\n</div>"
     },
     "execution_count": 52,
     "metadata": {},
     "output_type": "execute_result"
    }
   ],
   "source": [
    "# TODO: Keep for Reference\n",
    "pd.read_sql_table(table_name=\"monthly_fin\", con=engine.connect())"
   ],
   "metadata": {
    "collapsed": false
   }
  },
  {
   "cell_type": "code",
   "execution_count": 52,
   "outputs": [],
   "source": [],
   "metadata": {
    "collapsed": false
   }
  },
  {
   "cell_type": "code",
   "execution_count": null,
   "outputs": [],
   "source": [],
   "metadata": {
    "collapsed": false
   }
  }
 ],
 "metadata": {
  "kernelspec": {
   "display_name": "Python 3",
   "language": "python",
   "name": "python3"
  },
  "language_info": {
   "codemirror_mode": {
    "name": "ipython",
    "version": 2
   },
   "file_extension": ".py",
   "mimetype": "text/x-python",
   "name": "python",
   "nbconvert_exporter": "python",
   "pygments_lexer": "ipython2",
   "version": "2.7.6"
  }
 },
 "nbformat": 4,
 "nbformat_minor": 0
}
