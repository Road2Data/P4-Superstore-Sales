{
 "cells": [
  {
   "cell_type": "markdown",
   "source": [
    "# Superstore Sales\n",
    "\n",
    "Objectives\n",
    "* Aggregate Sales Data\n",
    "* Correlations between sales and external factors.\n",
    "* Identify top-performing products or regions.\n",
    "* Investigate opportunities for cross- and up-selling.\n",
    "\n",
    "### I. Imports and Setup"
   ],
   "metadata": {
    "collapsed": false
   }
  },
  {
   "cell_type": "code",
   "execution_count": 23,
   "outputs": [],
   "source": [
    "import dotenv\n",
    "from sqlalchemy import create_engine\n",
    "import numpy as np\n",
    "import pandas as pd\n",
    "import matplotlib.pyplot as plt\n",
    "import seaborn as sns\n",
    "\n",
    "from plotly.subplots import make_subplots\n",
    "import plotly.graph_objects as go\n",
    "import plotly.express as px\n",
    "\n",
    "import scipy.stats as st\n",
    "import statsmodels as sm"
   ],
   "metadata": {
    "collapsed": false
   }
  },
  {
   "cell_type": "code",
   "execution_count": 2,
   "outputs": [],
   "source": [
    "# TODO 1: Replace current method of URL object creation with secure .env files, adding to .gitignore."
   ],
   "metadata": {
    "collapsed": false
   }
  },
  {
   "cell_type": "code",
   "execution_count": 3,
   "outputs": [],
   "source": [
    "with open(\"authInfo.txt\") as file:\n",
    "    id = file.read()\n",
    "\n",
    "# Create SQLAlchemy engine obj to act as conn\n",
    "url = \"mysql://{}/superstore\".format(id)\n",
    "engine = create_engine(url)"
   ],
   "metadata": {
    "collapsed": false
   }
  },
  {
   "cell_type": "markdown",
   "source": [
    "### II. Monthly Analysis"
   ],
   "metadata": {
    "collapsed": false
   }
  },
  {
   "cell_type": "code",
   "execution_count": 30,
   "outputs": [
    {
     "data": {
      "text/plain": "  YearMonth  OrderVolume  MonthlySales  DiscountsValueGiven  MonthlyProfit\n0   2014-01           79      14236.89                10.00        2450.19\n1   2014-02           46       4519.89                 8.10         862.31\n2   2014-03          157      55691.01                26.30         498.73\n3   2014-04          135      28295.34                14.85        3488.84\n4   2014-05          122      23648.29                18.95        2738.71\n5   2014-06          135      34595.13                23.22        4976.52\n6   2014-07          143      33946.39                24.55        -841.48\n7   2014-08          153      27909.47                20.05        5318.10\n8   2014-09          268      81777.35                42.87        8328.10\n9   2014-10          159      31453.39                25.45        3448.26",
      "text/html": "<div>\n<style scoped>\n    .dataframe tbody tr th:only-of-type {\n        vertical-align: middle;\n    }\n\n    .dataframe tbody tr th {\n        vertical-align: top;\n    }\n\n    .dataframe thead th {\n        text-align: right;\n    }\n</style>\n<table border=\"1\" class=\"dataframe\">\n  <thead>\n    <tr style=\"text-align: right;\">\n      <th></th>\n      <th>YearMonth</th>\n      <th>OrderVolume</th>\n      <th>MonthlySales</th>\n      <th>DiscountsValueGiven</th>\n      <th>MonthlyProfit</th>\n    </tr>\n  </thead>\n  <tbody>\n    <tr>\n      <th>0</th>\n      <td>2014-01</td>\n      <td>79</td>\n      <td>14236.89</td>\n      <td>10.00</td>\n      <td>2450.19</td>\n    </tr>\n    <tr>\n      <th>1</th>\n      <td>2014-02</td>\n      <td>46</td>\n      <td>4519.89</td>\n      <td>8.10</td>\n      <td>862.31</td>\n    </tr>\n    <tr>\n      <th>2</th>\n      <td>2014-03</td>\n      <td>157</td>\n      <td>55691.01</td>\n      <td>26.30</td>\n      <td>498.73</td>\n    </tr>\n    <tr>\n      <th>3</th>\n      <td>2014-04</td>\n      <td>135</td>\n      <td>28295.34</td>\n      <td>14.85</td>\n      <td>3488.84</td>\n    </tr>\n    <tr>\n      <th>4</th>\n      <td>2014-05</td>\n      <td>122</td>\n      <td>23648.29</td>\n      <td>18.95</td>\n      <td>2738.71</td>\n    </tr>\n    <tr>\n      <th>5</th>\n      <td>2014-06</td>\n      <td>135</td>\n      <td>34595.13</td>\n      <td>23.22</td>\n      <td>4976.52</td>\n    </tr>\n    <tr>\n      <th>6</th>\n      <td>2014-07</td>\n      <td>143</td>\n      <td>33946.39</td>\n      <td>24.55</td>\n      <td>-841.48</td>\n    </tr>\n    <tr>\n      <th>7</th>\n      <td>2014-08</td>\n      <td>153</td>\n      <td>27909.47</td>\n      <td>20.05</td>\n      <td>5318.10</td>\n    </tr>\n    <tr>\n      <th>8</th>\n      <td>2014-09</td>\n      <td>268</td>\n      <td>81777.35</td>\n      <td>42.87</td>\n      <td>8328.10</td>\n    </tr>\n    <tr>\n      <th>9</th>\n      <td>2014-10</td>\n      <td>159</td>\n      <td>31453.39</td>\n      <td>25.45</td>\n      <td>3448.26</td>\n    </tr>\n  </tbody>\n</table>\n</div>"
     },
     "execution_count": 30,
     "metadata": {},
     "output_type": "execute_result"
    }
   ],
   "source": [
    "monthly_df = pd.read_sql_table(table_name=\"monthly_financials\", con=engine.connect())\n",
    "monthly_df.head(10)"
   ],
   "metadata": {
    "collapsed": false
   }
  },
  {
   "cell_type": "code",
   "execution_count": 31,
   "outputs": [
    {
     "data": {
      "application/vnd.plotly.v1+json": {
       "data": [
        {
         "hovertemplate": "variable=MonthlySales<br>YearMonth=%{x}<br>value=%{y}<extra></extra>",
         "legendgroup": "MonthlySales",
         "line": {
          "color": "#636efa",
          "dash": "solid"
         },
         "marker": {
          "symbol": "circle"
         },
         "mode": "lines",
         "name": "MonthlySales",
         "orientation": "v",
         "showlegend": true,
         "x": [
          "2014-01",
          "2014-02",
          "2014-03",
          "2014-04",
          "2014-05",
          "2014-06",
          "2014-07",
          "2014-08",
          "2014-09",
          "2014-10",
          "2014-11",
          "2014-12",
          "2015-01",
          "2015-02",
          "2015-03",
          "2015-04",
          "2015-05",
          "2015-06",
          "2015-07",
          "2015-08",
          "2015-09",
          "2015-10",
          "2015-11",
          "2015-12",
          "2016-01",
          "2016-02",
          "2016-03",
          "2016-04",
          "2016-05",
          "2016-06",
          "2016-07",
          "2016-08",
          "2016-09",
          "2016-10",
          "2016-11",
          "2016-12",
          "2017-01",
          "2017-02",
          "2017-03",
          "2017-04",
          "2017-05",
          "2017-06",
          "2017-07",
          "2017-08",
          "2017-09",
          "2017-10",
          "2017-11",
          "2017-12"
         ],
         "xaxis": "x",
         "y": [
          14236.89,
          4519.89,
          55691.01,
          28295.34,
          23648.29,
          34595.13,
          33946.39,
          27909.47,
          81777.35,
          31453.39,
          78628.72,
          69545.62,
          18174.08,
          11951.41,
          38726.25,
          34195.21,
          30131.69,
          24797.29,
          28765.32,
          36898.33,
          64595.92,
          31404.92,
          75972.56,
          74919.52,
          18542.49,
          22978.82,
          51715.88,
          38750.04,
          56987.73,
          40344.53,
          39261.96,
          31115.37,
          73410.02,
          59687.75,
          79411.97,
          96999.04,
          43971.37,
          20301.13,
          58872.35,
          36521.54,
          44261.11,
          52981.73,
          45264.42,
          63120.89,
          87866.65,
          77776.92,
          118447.83,
          83829.32
         ],
         "yaxis": "y",
         "type": "scatter"
        },
        {
         "hovertemplate": "variable=MonthlyProfit<br>YearMonth=%{x}<br>value=%{y}<extra></extra>",
         "legendgroup": "MonthlyProfit",
         "line": {
          "color": "#EF553B",
          "dash": "solid"
         },
         "marker": {
          "symbol": "circle"
         },
         "mode": "lines",
         "name": "MonthlyProfit",
         "orientation": "v",
         "showlegend": true,
         "x": [
          "2014-01",
          "2014-02",
          "2014-03",
          "2014-04",
          "2014-05",
          "2014-06",
          "2014-07",
          "2014-08",
          "2014-09",
          "2014-10",
          "2014-11",
          "2014-12",
          "2015-01",
          "2015-02",
          "2015-03",
          "2015-04",
          "2015-05",
          "2015-06",
          "2015-07",
          "2015-08",
          "2015-09",
          "2015-10",
          "2015-11",
          "2015-12",
          "2016-01",
          "2016-02",
          "2016-03",
          "2016-04",
          "2016-05",
          "2016-06",
          "2016-07",
          "2016-08",
          "2016-09",
          "2016-10",
          "2016-11",
          "2016-12",
          "2017-01",
          "2017-02",
          "2017-03",
          "2017-04",
          "2017-05",
          "2017-06",
          "2017-07",
          "2017-08",
          "2017-09",
          "2017-10",
          "2017-11",
          "2017-12"
         ],
         "xaxis": "x",
         "y": [
          2450.19,
          862.31,
          498.73,
          3488.84,
          2738.71,
          4976.52,
          -841.48,
          5318.1,
          8328.1,
          3448.26,
          9292.13,
          8983.57,
          -3281.01,
          2813.85,
          9732.1,
          4187.5,
          4667.87,
          3335.56,
          3288.65,
          5355.81,
          8209.16,
          2817.37,
          12474.79,
          8016.97,
          2824.82,
          5004.58,
          3611.97,
          2977.81,
          8662.15,
          4750.38,
          4432.88,
          2062.07,
          9328.66,
          16243.14,
          4011.41,
          17885.31,
          7140.44,
          1613.87,
          14751.89,
          933.29,
          6342.58,
          8223.34,
          6952.62,
          9040.96,
          10991.56,
          9275.28,
          9690.1,
          8483.35
         ],
         "yaxis": "y",
         "type": "scatter"
        }
       ],
       "layout": {
        "template": {
         "data": {
          "histogram2dcontour": [
           {
            "type": "histogram2dcontour",
            "colorbar": {
             "outlinewidth": 0,
             "ticks": ""
            },
            "colorscale": [
             [
              0.0,
              "#0d0887"
             ],
             [
              0.1111111111111111,
              "#46039f"
             ],
             [
              0.2222222222222222,
              "#7201a8"
             ],
             [
              0.3333333333333333,
              "#9c179e"
             ],
             [
              0.4444444444444444,
              "#bd3786"
             ],
             [
              0.5555555555555556,
              "#d8576b"
             ],
             [
              0.6666666666666666,
              "#ed7953"
             ],
             [
              0.7777777777777778,
              "#fb9f3a"
             ],
             [
              0.8888888888888888,
              "#fdca26"
             ],
             [
              1.0,
              "#f0f921"
             ]
            ]
           }
          ],
          "choropleth": [
           {
            "type": "choropleth",
            "colorbar": {
             "outlinewidth": 0,
             "ticks": ""
            }
           }
          ],
          "histogram2d": [
           {
            "type": "histogram2d",
            "colorbar": {
             "outlinewidth": 0,
             "ticks": ""
            },
            "colorscale": [
             [
              0.0,
              "#0d0887"
             ],
             [
              0.1111111111111111,
              "#46039f"
             ],
             [
              0.2222222222222222,
              "#7201a8"
             ],
             [
              0.3333333333333333,
              "#9c179e"
             ],
             [
              0.4444444444444444,
              "#bd3786"
             ],
             [
              0.5555555555555556,
              "#d8576b"
             ],
             [
              0.6666666666666666,
              "#ed7953"
             ],
             [
              0.7777777777777778,
              "#fb9f3a"
             ],
             [
              0.8888888888888888,
              "#fdca26"
             ],
             [
              1.0,
              "#f0f921"
             ]
            ]
           }
          ],
          "heatmap": [
           {
            "type": "heatmap",
            "colorbar": {
             "outlinewidth": 0,
             "ticks": ""
            },
            "colorscale": [
             [
              0.0,
              "#0d0887"
             ],
             [
              0.1111111111111111,
              "#46039f"
             ],
             [
              0.2222222222222222,
              "#7201a8"
             ],
             [
              0.3333333333333333,
              "#9c179e"
             ],
             [
              0.4444444444444444,
              "#bd3786"
             ],
             [
              0.5555555555555556,
              "#d8576b"
             ],
             [
              0.6666666666666666,
              "#ed7953"
             ],
             [
              0.7777777777777778,
              "#fb9f3a"
             ],
             [
              0.8888888888888888,
              "#fdca26"
             ],
             [
              1.0,
              "#f0f921"
             ]
            ]
           }
          ],
          "heatmapgl": [
           {
            "type": "heatmapgl",
            "colorbar": {
             "outlinewidth": 0,
             "ticks": ""
            },
            "colorscale": [
             [
              0.0,
              "#0d0887"
             ],
             [
              0.1111111111111111,
              "#46039f"
             ],
             [
              0.2222222222222222,
              "#7201a8"
             ],
             [
              0.3333333333333333,
              "#9c179e"
             ],
             [
              0.4444444444444444,
              "#bd3786"
             ],
             [
              0.5555555555555556,
              "#d8576b"
             ],
             [
              0.6666666666666666,
              "#ed7953"
             ],
             [
              0.7777777777777778,
              "#fb9f3a"
             ],
             [
              0.8888888888888888,
              "#fdca26"
             ],
             [
              1.0,
              "#f0f921"
             ]
            ]
           }
          ],
          "contourcarpet": [
           {
            "type": "contourcarpet",
            "colorbar": {
             "outlinewidth": 0,
             "ticks": ""
            }
           }
          ],
          "contour": [
           {
            "type": "contour",
            "colorbar": {
             "outlinewidth": 0,
             "ticks": ""
            },
            "colorscale": [
             [
              0.0,
              "#0d0887"
             ],
             [
              0.1111111111111111,
              "#46039f"
             ],
             [
              0.2222222222222222,
              "#7201a8"
             ],
             [
              0.3333333333333333,
              "#9c179e"
             ],
             [
              0.4444444444444444,
              "#bd3786"
             ],
             [
              0.5555555555555556,
              "#d8576b"
             ],
             [
              0.6666666666666666,
              "#ed7953"
             ],
             [
              0.7777777777777778,
              "#fb9f3a"
             ],
             [
              0.8888888888888888,
              "#fdca26"
             ],
             [
              1.0,
              "#f0f921"
             ]
            ]
           }
          ],
          "surface": [
           {
            "type": "surface",
            "colorbar": {
             "outlinewidth": 0,
             "ticks": ""
            },
            "colorscale": [
             [
              0.0,
              "#0d0887"
             ],
             [
              0.1111111111111111,
              "#46039f"
             ],
             [
              0.2222222222222222,
              "#7201a8"
             ],
             [
              0.3333333333333333,
              "#9c179e"
             ],
             [
              0.4444444444444444,
              "#bd3786"
             ],
             [
              0.5555555555555556,
              "#d8576b"
             ],
             [
              0.6666666666666666,
              "#ed7953"
             ],
             [
              0.7777777777777778,
              "#fb9f3a"
             ],
             [
              0.8888888888888888,
              "#fdca26"
             ],
             [
              1.0,
              "#f0f921"
             ]
            ]
           }
          ],
          "mesh3d": [
           {
            "type": "mesh3d",
            "colorbar": {
             "outlinewidth": 0,
             "ticks": ""
            }
           }
          ],
          "scatter": [
           {
            "marker": {
             "line": {
              "color": "#283442"
             }
            },
            "type": "scatter"
           }
          ],
          "parcoords": [
           {
            "type": "parcoords",
            "line": {
             "colorbar": {
              "outlinewidth": 0,
              "ticks": ""
             }
            }
           }
          ],
          "scatterpolargl": [
           {
            "type": "scatterpolargl",
            "marker": {
             "colorbar": {
              "outlinewidth": 0,
              "ticks": ""
             }
            }
           }
          ],
          "bar": [
           {
            "error_x": {
             "color": "#f2f5fa"
            },
            "error_y": {
             "color": "#f2f5fa"
            },
            "marker": {
             "line": {
              "color": "rgb(17,17,17)",
              "width": 0.5
             },
             "pattern": {
              "fillmode": "overlay",
              "size": 10,
              "solidity": 0.2
             }
            },
            "type": "bar"
           }
          ],
          "scattergeo": [
           {
            "type": "scattergeo",
            "marker": {
             "colorbar": {
              "outlinewidth": 0,
              "ticks": ""
             }
            }
           }
          ],
          "scatterpolar": [
           {
            "type": "scatterpolar",
            "marker": {
             "colorbar": {
              "outlinewidth": 0,
              "ticks": ""
             }
            }
           }
          ],
          "histogram": [
           {
            "marker": {
             "pattern": {
              "fillmode": "overlay",
              "size": 10,
              "solidity": 0.2
             }
            },
            "type": "histogram"
           }
          ],
          "scattergl": [
           {
            "marker": {
             "line": {
              "color": "#283442"
             }
            },
            "type": "scattergl"
           }
          ],
          "scatter3d": [
           {
            "type": "scatter3d",
            "line": {
             "colorbar": {
              "outlinewidth": 0,
              "ticks": ""
             }
            },
            "marker": {
             "colorbar": {
              "outlinewidth": 0,
              "ticks": ""
             }
            }
           }
          ],
          "scattermapbox": [
           {
            "type": "scattermapbox",
            "marker": {
             "colorbar": {
              "outlinewidth": 0,
              "ticks": ""
             }
            }
           }
          ],
          "scatterternary": [
           {
            "type": "scatterternary",
            "marker": {
             "colorbar": {
              "outlinewidth": 0,
              "ticks": ""
             }
            }
           }
          ],
          "scattercarpet": [
           {
            "type": "scattercarpet",
            "marker": {
             "colorbar": {
              "outlinewidth": 0,
              "ticks": ""
             }
            }
           }
          ],
          "carpet": [
           {
            "aaxis": {
             "endlinecolor": "#A2B1C6",
             "gridcolor": "#506784",
             "linecolor": "#506784",
             "minorgridcolor": "#506784",
             "startlinecolor": "#A2B1C6"
            },
            "baxis": {
             "endlinecolor": "#A2B1C6",
             "gridcolor": "#506784",
             "linecolor": "#506784",
             "minorgridcolor": "#506784",
             "startlinecolor": "#A2B1C6"
            },
            "type": "carpet"
           }
          ],
          "table": [
           {
            "cells": {
             "fill": {
              "color": "#506784"
             },
             "line": {
              "color": "rgb(17,17,17)"
             }
            },
            "header": {
             "fill": {
              "color": "#2a3f5f"
             },
             "line": {
              "color": "rgb(17,17,17)"
             }
            },
            "type": "table"
           }
          ],
          "barpolar": [
           {
            "marker": {
             "line": {
              "color": "rgb(17,17,17)",
              "width": 0.5
             },
             "pattern": {
              "fillmode": "overlay",
              "size": 10,
              "solidity": 0.2
             }
            },
            "type": "barpolar"
           }
          ],
          "pie": [
           {
            "automargin": true,
            "type": "pie"
           }
          ]
         },
         "layout": {
          "autotypenumbers": "strict",
          "colorway": [
           "#636efa",
           "#EF553B",
           "#00cc96",
           "#ab63fa",
           "#FFA15A",
           "#19d3f3",
           "#FF6692",
           "#B6E880",
           "#FF97FF",
           "#FECB52"
          ],
          "font": {
           "color": "#f2f5fa"
          },
          "hovermode": "closest",
          "hoverlabel": {
           "align": "left"
          },
          "paper_bgcolor": "rgb(17,17,17)",
          "plot_bgcolor": "rgb(17,17,17)",
          "polar": {
           "bgcolor": "rgb(17,17,17)",
           "angularaxis": {
            "gridcolor": "#506784",
            "linecolor": "#506784",
            "ticks": ""
           },
           "radialaxis": {
            "gridcolor": "#506784",
            "linecolor": "#506784",
            "ticks": ""
           }
          },
          "ternary": {
           "bgcolor": "rgb(17,17,17)",
           "aaxis": {
            "gridcolor": "#506784",
            "linecolor": "#506784",
            "ticks": ""
           },
           "baxis": {
            "gridcolor": "#506784",
            "linecolor": "#506784",
            "ticks": ""
           },
           "caxis": {
            "gridcolor": "#506784",
            "linecolor": "#506784",
            "ticks": ""
           }
          },
          "coloraxis": {
           "colorbar": {
            "outlinewidth": 0,
            "ticks": ""
           }
          },
          "colorscale": {
           "sequential": [
            [
             0.0,
             "#0d0887"
            ],
            [
             0.1111111111111111,
             "#46039f"
            ],
            [
             0.2222222222222222,
             "#7201a8"
            ],
            [
             0.3333333333333333,
             "#9c179e"
            ],
            [
             0.4444444444444444,
             "#bd3786"
            ],
            [
             0.5555555555555556,
             "#d8576b"
            ],
            [
             0.6666666666666666,
             "#ed7953"
            ],
            [
             0.7777777777777778,
             "#fb9f3a"
            ],
            [
             0.8888888888888888,
             "#fdca26"
            ],
            [
             1.0,
             "#f0f921"
            ]
           ],
           "sequentialminus": [
            [
             0.0,
             "#0d0887"
            ],
            [
             0.1111111111111111,
             "#46039f"
            ],
            [
             0.2222222222222222,
             "#7201a8"
            ],
            [
             0.3333333333333333,
             "#9c179e"
            ],
            [
             0.4444444444444444,
             "#bd3786"
            ],
            [
             0.5555555555555556,
             "#d8576b"
            ],
            [
             0.6666666666666666,
             "#ed7953"
            ],
            [
             0.7777777777777778,
             "#fb9f3a"
            ],
            [
             0.8888888888888888,
             "#fdca26"
            ],
            [
             1.0,
             "#f0f921"
            ]
           ],
           "diverging": [
            [
             0,
             "#8e0152"
            ],
            [
             0.1,
             "#c51b7d"
            ],
            [
             0.2,
             "#de77ae"
            ],
            [
             0.3,
             "#f1b6da"
            ],
            [
             0.4,
             "#fde0ef"
            ],
            [
             0.5,
             "#f7f7f7"
            ],
            [
             0.6,
             "#e6f5d0"
            ],
            [
             0.7,
             "#b8e186"
            ],
            [
             0.8,
             "#7fbc41"
            ],
            [
             0.9,
             "#4d9221"
            ],
            [
             1,
             "#276419"
            ]
           ]
          },
          "xaxis": {
           "gridcolor": "#283442",
           "linecolor": "#506784",
           "ticks": "",
           "title": {
            "standoff": 15
           },
           "zerolinecolor": "#283442",
           "automargin": true,
           "zerolinewidth": 2
          },
          "yaxis": {
           "gridcolor": "#283442",
           "linecolor": "#506784",
           "ticks": "",
           "title": {
            "standoff": 15
           },
           "zerolinecolor": "#283442",
           "automargin": true,
           "zerolinewidth": 2
          },
          "scene": {
           "xaxis": {
            "backgroundcolor": "rgb(17,17,17)",
            "gridcolor": "#506784",
            "linecolor": "#506784",
            "showbackground": true,
            "ticks": "",
            "zerolinecolor": "#C8D4E3",
            "gridwidth": 2
           },
           "yaxis": {
            "backgroundcolor": "rgb(17,17,17)",
            "gridcolor": "#506784",
            "linecolor": "#506784",
            "showbackground": true,
            "ticks": "",
            "zerolinecolor": "#C8D4E3",
            "gridwidth": 2
           },
           "zaxis": {
            "backgroundcolor": "rgb(17,17,17)",
            "gridcolor": "#506784",
            "linecolor": "#506784",
            "showbackground": true,
            "ticks": "",
            "zerolinecolor": "#C8D4E3",
            "gridwidth": 2
           }
          },
          "shapedefaults": {
           "line": {
            "color": "#f2f5fa"
           }
          },
          "annotationdefaults": {
           "arrowcolor": "#f2f5fa",
           "arrowhead": 0,
           "arrowwidth": 1
          },
          "geo": {
           "bgcolor": "rgb(17,17,17)",
           "landcolor": "rgb(17,17,17)",
           "subunitcolor": "#506784",
           "showland": true,
           "showlakes": true,
           "lakecolor": "rgb(17,17,17)"
          },
          "title": {
           "x": 0.05
          },
          "updatemenudefaults": {
           "bgcolor": "#506784",
           "borderwidth": 0
          },
          "sliderdefaults": {
           "bgcolor": "#C8D4E3",
           "borderwidth": 1,
           "bordercolor": "rgb(17,17,17)",
           "tickwidth": 0
          },
          "mapbox": {
           "style": "dark"
          }
         }
        },
        "xaxis": {
         "anchor": "y",
         "domain": [
          0.0,
          1.0
         ],
         "title": {
          "text": "YearMonth"
         }
        },
        "yaxis": {
         "anchor": "x",
         "domain": [
          0.0,
          1.0
         ],
         "title": {
          "text": "value"
         }
        },
        "legend": {
         "title": {
          "text": "variable"
         },
         "tracegroupgap": 0
        },
        "title": {
         "text": "Time Series for Sales and Profit"
        }
       },
       "config": {
        "plotlyServerURL": "https://plot.ly"
       }
      },
      "text/html": "<div>                            <div id=\"2b2f19ef-e41e-4df9-b698-f4a8e52601d6\" class=\"plotly-graph-div\" style=\"height:525px; width:100%;\"></div>            <script type=\"text/javascript\">                require([\"plotly\"], function(Plotly) {                    window.PLOTLYENV=window.PLOTLYENV || {};                                    if (document.getElementById(\"2b2f19ef-e41e-4df9-b698-f4a8e52601d6\")) {                    Plotly.newPlot(                        \"2b2f19ef-e41e-4df9-b698-f4a8e52601d6\",                        [{\"hovertemplate\":\"variable=MonthlySales<br>YearMonth=%{x}<br>value=%{y}<extra></extra>\",\"legendgroup\":\"MonthlySales\",\"line\":{\"color\":\"#636efa\",\"dash\":\"solid\"},\"marker\":{\"symbol\":\"circle\"},\"mode\":\"lines\",\"name\":\"MonthlySales\",\"orientation\":\"v\",\"showlegend\":true,\"x\":[\"2014-01\",\"2014-02\",\"2014-03\",\"2014-04\",\"2014-05\",\"2014-06\",\"2014-07\",\"2014-08\",\"2014-09\",\"2014-10\",\"2014-11\",\"2014-12\",\"2015-01\",\"2015-02\",\"2015-03\",\"2015-04\",\"2015-05\",\"2015-06\",\"2015-07\",\"2015-08\",\"2015-09\",\"2015-10\",\"2015-11\",\"2015-12\",\"2016-01\",\"2016-02\",\"2016-03\",\"2016-04\",\"2016-05\",\"2016-06\",\"2016-07\",\"2016-08\",\"2016-09\",\"2016-10\",\"2016-11\",\"2016-12\",\"2017-01\",\"2017-02\",\"2017-03\",\"2017-04\",\"2017-05\",\"2017-06\",\"2017-07\",\"2017-08\",\"2017-09\",\"2017-10\",\"2017-11\",\"2017-12\"],\"xaxis\":\"x\",\"y\":[14236.89,4519.89,55691.01,28295.34,23648.29,34595.13,33946.39,27909.47,81777.35,31453.39,78628.72,69545.62,18174.08,11951.41,38726.25,34195.21,30131.69,24797.29,28765.32,36898.33,64595.92,31404.92,75972.56,74919.52,18542.49,22978.82,51715.88,38750.04,56987.73,40344.53,39261.96,31115.37,73410.02,59687.75,79411.97,96999.04,43971.37,20301.13,58872.35,36521.54,44261.11,52981.73,45264.42,63120.89,87866.65,77776.92,118447.83,83829.32],\"yaxis\":\"y\",\"type\":\"scatter\"},{\"hovertemplate\":\"variable=MonthlyProfit<br>YearMonth=%{x}<br>value=%{y}<extra></extra>\",\"legendgroup\":\"MonthlyProfit\",\"line\":{\"color\":\"#EF553B\",\"dash\":\"solid\"},\"marker\":{\"symbol\":\"circle\"},\"mode\":\"lines\",\"name\":\"MonthlyProfit\",\"orientation\":\"v\",\"showlegend\":true,\"x\":[\"2014-01\",\"2014-02\",\"2014-03\",\"2014-04\",\"2014-05\",\"2014-06\",\"2014-07\",\"2014-08\",\"2014-09\",\"2014-10\",\"2014-11\",\"2014-12\",\"2015-01\",\"2015-02\",\"2015-03\",\"2015-04\",\"2015-05\",\"2015-06\",\"2015-07\",\"2015-08\",\"2015-09\",\"2015-10\",\"2015-11\",\"2015-12\",\"2016-01\",\"2016-02\",\"2016-03\",\"2016-04\",\"2016-05\",\"2016-06\",\"2016-07\",\"2016-08\",\"2016-09\",\"2016-10\",\"2016-11\",\"2016-12\",\"2017-01\",\"2017-02\",\"2017-03\",\"2017-04\",\"2017-05\",\"2017-06\",\"2017-07\",\"2017-08\",\"2017-09\",\"2017-10\",\"2017-11\",\"2017-12\"],\"xaxis\":\"x\",\"y\":[2450.19,862.31,498.73,3488.84,2738.71,4976.52,-841.48,5318.1,8328.1,3448.26,9292.13,8983.57,-3281.01,2813.85,9732.1,4187.5,4667.87,3335.56,3288.65,5355.81,8209.16,2817.37,12474.79,8016.97,2824.82,5004.58,3611.97,2977.81,8662.15,4750.38,4432.88,2062.07,9328.66,16243.14,4011.41,17885.31,7140.44,1613.87,14751.89,933.29,6342.58,8223.34,6952.62,9040.96,10991.56,9275.28,9690.1,8483.35],\"yaxis\":\"y\",\"type\":\"scatter\"}],                        {\"template\":{\"data\":{\"histogram2dcontour\":[{\"type\":\"histogram2dcontour\",\"colorbar\":{\"outlinewidth\":0,\"ticks\":\"\"},\"colorscale\":[[0.0,\"#0d0887\"],[0.1111111111111111,\"#46039f\"],[0.2222222222222222,\"#7201a8\"],[0.3333333333333333,\"#9c179e\"],[0.4444444444444444,\"#bd3786\"],[0.5555555555555556,\"#d8576b\"],[0.6666666666666666,\"#ed7953\"],[0.7777777777777778,\"#fb9f3a\"],[0.8888888888888888,\"#fdca26\"],[1.0,\"#f0f921\"]]}],\"choropleth\":[{\"type\":\"choropleth\",\"colorbar\":{\"outlinewidth\":0,\"ticks\":\"\"}}],\"histogram2d\":[{\"type\":\"histogram2d\",\"colorbar\":{\"outlinewidth\":0,\"ticks\":\"\"},\"colorscale\":[[0.0,\"#0d0887\"],[0.1111111111111111,\"#46039f\"],[0.2222222222222222,\"#7201a8\"],[0.3333333333333333,\"#9c179e\"],[0.4444444444444444,\"#bd3786\"],[0.5555555555555556,\"#d8576b\"],[0.6666666666666666,\"#ed7953\"],[0.7777777777777778,\"#fb9f3a\"],[0.8888888888888888,\"#fdca26\"],[1.0,\"#f0f921\"]]}],\"heatmap\":[{\"type\":\"heatmap\",\"colorbar\":{\"outlinewidth\":0,\"ticks\":\"\"},\"colorscale\":[[0.0,\"#0d0887\"],[0.1111111111111111,\"#46039f\"],[0.2222222222222222,\"#7201a8\"],[0.3333333333333333,\"#9c179e\"],[0.4444444444444444,\"#bd3786\"],[0.5555555555555556,\"#d8576b\"],[0.6666666666666666,\"#ed7953\"],[0.7777777777777778,\"#fb9f3a\"],[0.8888888888888888,\"#fdca26\"],[1.0,\"#f0f921\"]]}],\"heatmapgl\":[{\"type\":\"heatmapgl\",\"colorbar\":{\"outlinewidth\":0,\"ticks\":\"\"},\"colorscale\":[[0.0,\"#0d0887\"],[0.1111111111111111,\"#46039f\"],[0.2222222222222222,\"#7201a8\"],[0.3333333333333333,\"#9c179e\"],[0.4444444444444444,\"#bd3786\"],[0.5555555555555556,\"#d8576b\"],[0.6666666666666666,\"#ed7953\"],[0.7777777777777778,\"#fb9f3a\"],[0.8888888888888888,\"#fdca26\"],[1.0,\"#f0f921\"]]}],\"contourcarpet\":[{\"type\":\"contourcarpet\",\"colorbar\":{\"outlinewidth\":0,\"ticks\":\"\"}}],\"contour\":[{\"type\":\"contour\",\"colorbar\":{\"outlinewidth\":0,\"ticks\":\"\"},\"colorscale\":[[0.0,\"#0d0887\"],[0.1111111111111111,\"#46039f\"],[0.2222222222222222,\"#7201a8\"],[0.3333333333333333,\"#9c179e\"],[0.4444444444444444,\"#bd3786\"],[0.5555555555555556,\"#d8576b\"],[0.6666666666666666,\"#ed7953\"],[0.7777777777777778,\"#fb9f3a\"],[0.8888888888888888,\"#fdca26\"],[1.0,\"#f0f921\"]]}],\"surface\":[{\"type\":\"surface\",\"colorbar\":{\"outlinewidth\":0,\"ticks\":\"\"},\"colorscale\":[[0.0,\"#0d0887\"],[0.1111111111111111,\"#46039f\"],[0.2222222222222222,\"#7201a8\"],[0.3333333333333333,\"#9c179e\"],[0.4444444444444444,\"#bd3786\"],[0.5555555555555556,\"#d8576b\"],[0.6666666666666666,\"#ed7953\"],[0.7777777777777778,\"#fb9f3a\"],[0.8888888888888888,\"#fdca26\"],[1.0,\"#f0f921\"]]}],\"mesh3d\":[{\"type\":\"mesh3d\",\"colorbar\":{\"outlinewidth\":0,\"ticks\":\"\"}}],\"scatter\":[{\"marker\":{\"line\":{\"color\":\"#283442\"}},\"type\":\"scatter\"}],\"parcoords\":[{\"type\":\"parcoords\",\"line\":{\"colorbar\":{\"outlinewidth\":0,\"ticks\":\"\"}}}],\"scatterpolargl\":[{\"type\":\"scatterpolargl\",\"marker\":{\"colorbar\":{\"outlinewidth\":0,\"ticks\":\"\"}}}],\"bar\":[{\"error_x\":{\"color\":\"#f2f5fa\"},\"error_y\":{\"color\":\"#f2f5fa\"},\"marker\":{\"line\":{\"color\":\"rgb(17,17,17)\",\"width\":0.5},\"pattern\":{\"fillmode\":\"overlay\",\"size\":10,\"solidity\":0.2}},\"type\":\"bar\"}],\"scattergeo\":[{\"type\":\"scattergeo\",\"marker\":{\"colorbar\":{\"outlinewidth\":0,\"ticks\":\"\"}}}],\"scatterpolar\":[{\"type\":\"scatterpolar\",\"marker\":{\"colorbar\":{\"outlinewidth\":0,\"ticks\":\"\"}}}],\"histogram\":[{\"marker\":{\"pattern\":{\"fillmode\":\"overlay\",\"size\":10,\"solidity\":0.2}},\"type\":\"histogram\"}],\"scattergl\":[{\"marker\":{\"line\":{\"color\":\"#283442\"}},\"type\":\"scattergl\"}],\"scatter3d\":[{\"type\":\"scatter3d\",\"line\":{\"colorbar\":{\"outlinewidth\":0,\"ticks\":\"\"}},\"marker\":{\"colorbar\":{\"outlinewidth\":0,\"ticks\":\"\"}}}],\"scattermapbox\":[{\"type\":\"scattermapbox\",\"marker\":{\"colorbar\":{\"outlinewidth\":0,\"ticks\":\"\"}}}],\"scatterternary\":[{\"type\":\"scatterternary\",\"marker\":{\"colorbar\":{\"outlinewidth\":0,\"ticks\":\"\"}}}],\"scattercarpet\":[{\"type\":\"scattercarpet\",\"marker\":{\"colorbar\":{\"outlinewidth\":0,\"ticks\":\"\"}}}],\"carpet\":[{\"aaxis\":{\"endlinecolor\":\"#A2B1C6\",\"gridcolor\":\"#506784\",\"linecolor\":\"#506784\",\"minorgridcolor\":\"#506784\",\"startlinecolor\":\"#A2B1C6\"},\"baxis\":{\"endlinecolor\":\"#A2B1C6\",\"gridcolor\":\"#506784\",\"linecolor\":\"#506784\",\"minorgridcolor\":\"#506784\",\"startlinecolor\":\"#A2B1C6\"},\"type\":\"carpet\"}],\"table\":[{\"cells\":{\"fill\":{\"color\":\"#506784\"},\"line\":{\"color\":\"rgb(17,17,17)\"}},\"header\":{\"fill\":{\"color\":\"#2a3f5f\"},\"line\":{\"color\":\"rgb(17,17,17)\"}},\"type\":\"table\"}],\"barpolar\":[{\"marker\":{\"line\":{\"color\":\"rgb(17,17,17)\",\"width\":0.5},\"pattern\":{\"fillmode\":\"overlay\",\"size\":10,\"solidity\":0.2}},\"type\":\"barpolar\"}],\"pie\":[{\"automargin\":true,\"type\":\"pie\"}]},\"layout\":{\"autotypenumbers\":\"strict\",\"colorway\":[\"#636efa\",\"#EF553B\",\"#00cc96\",\"#ab63fa\",\"#FFA15A\",\"#19d3f3\",\"#FF6692\",\"#B6E880\",\"#FF97FF\",\"#FECB52\"],\"font\":{\"color\":\"#f2f5fa\"},\"hovermode\":\"closest\",\"hoverlabel\":{\"align\":\"left\"},\"paper_bgcolor\":\"rgb(17,17,17)\",\"plot_bgcolor\":\"rgb(17,17,17)\",\"polar\":{\"bgcolor\":\"rgb(17,17,17)\",\"angularaxis\":{\"gridcolor\":\"#506784\",\"linecolor\":\"#506784\",\"ticks\":\"\"},\"radialaxis\":{\"gridcolor\":\"#506784\",\"linecolor\":\"#506784\",\"ticks\":\"\"}},\"ternary\":{\"bgcolor\":\"rgb(17,17,17)\",\"aaxis\":{\"gridcolor\":\"#506784\",\"linecolor\":\"#506784\",\"ticks\":\"\"},\"baxis\":{\"gridcolor\":\"#506784\",\"linecolor\":\"#506784\",\"ticks\":\"\"},\"caxis\":{\"gridcolor\":\"#506784\",\"linecolor\":\"#506784\",\"ticks\":\"\"}},\"coloraxis\":{\"colorbar\":{\"outlinewidth\":0,\"ticks\":\"\"}},\"colorscale\":{\"sequential\":[[0.0,\"#0d0887\"],[0.1111111111111111,\"#46039f\"],[0.2222222222222222,\"#7201a8\"],[0.3333333333333333,\"#9c179e\"],[0.4444444444444444,\"#bd3786\"],[0.5555555555555556,\"#d8576b\"],[0.6666666666666666,\"#ed7953\"],[0.7777777777777778,\"#fb9f3a\"],[0.8888888888888888,\"#fdca26\"],[1.0,\"#f0f921\"]],\"sequentialminus\":[[0.0,\"#0d0887\"],[0.1111111111111111,\"#46039f\"],[0.2222222222222222,\"#7201a8\"],[0.3333333333333333,\"#9c179e\"],[0.4444444444444444,\"#bd3786\"],[0.5555555555555556,\"#d8576b\"],[0.6666666666666666,\"#ed7953\"],[0.7777777777777778,\"#fb9f3a\"],[0.8888888888888888,\"#fdca26\"],[1.0,\"#f0f921\"]],\"diverging\":[[0,\"#8e0152\"],[0.1,\"#c51b7d\"],[0.2,\"#de77ae\"],[0.3,\"#f1b6da\"],[0.4,\"#fde0ef\"],[0.5,\"#f7f7f7\"],[0.6,\"#e6f5d0\"],[0.7,\"#b8e186\"],[0.8,\"#7fbc41\"],[0.9,\"#4d9221\"],[1,\"#276419\"]]},\"xaxis\":{\"gridcolor\":\"#283442\",\"linecolor\":\"#506784\",\"ticks\":\"\",\"title\":{\"standoff\":15},\"zerolinecolor\":\"#283442\",\"automargin\":true,\"zerolinewidth\":2},\"yaxis\":{\"gridcolor\":\"#283442\",\"linecolor\":\"#506784\",\"ticks\":\"\",\"title\":{\"standoff\":15},\"zerolinecolor\":\"#283442\",\"automargin\":true,\"zerolinewidth\":2},\"scene\":{\"xaxis\":{\"backgroundcolor\":\"rgb(17,17,17)\",\"gridcolor\":\"#506784\",\"linecolor\":\"#506784\",\"showbackground\":true,\"ticks\":\"\",\"zerolinecolor\":\"#C8D4E3\",\"gridwidth\":2},\"yaxis\":{\"backgroundcolor\":\"rgb(17,17,17)\",\"gridcolor\":\"#506784\",\"linecolor\":\"#506784\",\"showbackground\":true,\"ticks\":\"\",\"zerolinecolor\":\"#C8D4E3\",\"gridwidth\":2},\"zaxis\":{\"backgroundcolor\":\"rgb(17,17,17)\",\"gridcolor\":\"#506784\",\"linecolor\":\"#506784\",\"showbackground\":true,\"ticks\":\"\",\"zerolinecolor\":\"#C8D4E3\",\"gridwidth\":2}},\"shapedefaults\":{\"line\":{\"color\":\"#f2f5fa\"}},\"annotationdefaults\":{\"arrowcolor\":\"#f2f5fa\",\"arrowhead\":0,\"arrowwidth\":1},\"geo\":{\"bgcolor\":\"rgb(17,17,17)\",\"landcolor\":\"rgb(17,17,17)\",\"subunitcolor\":\"#506784\",\"showland\":true,\"showlakes\":true,\"lakecolor\":\"rgb(17,17,17)\"},\"title\":{\"x\":0.05},\"updatemenudefaults\":{\"bgcolor\":\"#506784\",\"borderwidth\":0},\"sliderdefaults\":{\"bgcolor\":\"#C8D4E3\",\"borderwidth\":1,\"bordercolor\":\"rgb(17,17,17)\",\"tickwidth\":0},\"mapbox\":{\"style\":\"dark\"}}},\"xaxis\":{\"anchor\":\"y\",\"domain\":[0.0,1.0],\"title\":{\"text\":\"YearMonth\"}},\"yaxis\":{\"anchor\":\"x\",\"domain\":[0.0,1.0],\"title\":{\"text\":\"value\"}},\"legend\":{\"title\":{\"text\":\"variable\"},\"tracegroupgap\":0},\"title\":{\"text\":\"Time Series for Sales and Profit\"}},                        {\"responsive\": true}                    ).then(function(){\n                            \nvar gd = document.getElementById('2b2f19ef-e41e-4df9-b698-f4a8e52601d6');\nvar x = new MutationObserver(function (mutations, observer) {{\n        var display = window.getComputedStyle(gd).display;\n        if (!display || display === 'none') {{\n            console.log([gd, 'removed!']);\n            Plotly.purge(gd);\n            observer.disconnect();\n        }}\n}});\n\n// Listen for the removal of the full notebook cells\nvar notebookContainer = gd.closest('#notebook-container');\nif (notebookContainer) {{\n    x.observe(notebookContainer, {childList: true});\n}}\n\n// Listen for the clearing of the current output cell\nvar outputEl = gd.closest('.output');\nif (outputEl) {{\n    x.observe(outputEl, {childList: true});\n}}\n\n                        })                };                });            </script>        </div>"
     },
     "metadata": {},
     "output_type": "display_data"
    }
   ],
   "source": [
    "px.line(data_frame=monthly_df, x=\"YearMonth\", y=[\"MonthlySales\", \"MonthlyProfit\"], title=\"Time Series for Sales and Profit\")"
   ],
   "metadata": {
    "collapsed": false
   }
  },
  {
   "cell_type": "code",
   "execution_count": 32,
   "outputs": [
    {
     "data": {
      "text/plain": "       OrderVolume   MonthlySales  DiscountsValueGiven  MonthlyProfit\ncount    48.000000      48.000000            48.000000      48.000000\nmean    208.208333   47858.351042            32.522708    5966.605417\nstd     104.724148   25195.891228            16.275067    4288.699326\nmin      46.000000    4519.890000             8.000000   -3281.010000\n25%     139.500000   29790.097500            23.655000    2939.562500\n50%     173.000000   39803.245000            28.500000    4990.550000\n75%     270.500000   65833.345000            42.307500    8742.505000\nmax     462.000000  118447.830000            73.890000   17885.310000",
      "text/html": "<div>\n<style scoped>\n    .dataframe tbody tr th:only-of-type {\n        vertical-align: middle;\n    }\n\n    .dataframe tbody tr th {\n        vertical-align: top;\n    }\n\n    .dataframe thead th {\n        text-align: right;\n    }\n</style>\n<table border=\"1\" class=\"dataframe\">\n  <thead>\n    <tr style=\"text-align: right;\">\n      <th></th>\n      <th>OrderVolume</th>\n      <th>MonthlySales</th>\n      <th>DiscountsValueGiven</th>\n      <th>MonthlyProfit</th>\n    </tr>\n  </thead>\n  <tbody>\n    <tr>\n      <th>count</th>\n      <td>48.000000</td>\n      <td>48.000000</td>\n      <td>48.000000</td>\n      <td>48.000000</td>\n    </tr>\n    <tr>\n      <th>mean</th>\n      <td>208.208333</td>\n      <td>47858.351042</td>\n      <td>32.522708</td>\n      <td>5966.605417</td>\n    </tr>\n    <tr>\n      <th>std</th>\n      <td>104.724148</td>\n      <td>25195.891228</td>\n      <td>16.275067</td>\n      <td>4288.699326</td>\n    </tr>\n    <tr>\n      <th>min</th>\n      <td>46.000000</td>\n      <td>4519.890000</td>\n      <td>8.000000</td>\n      <td>-3281.010000</td>\n    </tr>\n    <tr>\n      <th>25%</th>\n      <td>139.500000</td>\n      <td>29790.097500</td>\n      <td>23.655000</td>\n      <td>2939.562500</td>\n    </tr>\n    <tr>\n      <th>50%</th>\n      <td>173.000000</td>\n      <td>39803.245000</td>\n      <td>28.500000</td>\n      <td>4990.550000</td>\n    </tr>\n    <tr>\n      <th>75%</th>\n      <td>270.500000</td>\n      <td>65833.345000</td>\n      <td>42.307500</td>\n      <td>8742.505000</td>\n    </tr>\n    <tr>\n      <th>max</th>\n      <td>462.000000</td>\n      <td>118447.830000</td>\n      <td>73.890000</td>\n      <td>17885.310000</td>\n    </tr>\n  </tbody>\n</table>\n</div>"
     },
     "execution_count": 32,
     "metadata": {},
     "output_type": "execute_result"
    }
   ],
   "source": [
    "monthly_df.describe()"
   ],
   "metadata": {
    "collapsed": false
   }
  },
  {
   "cell_type": "code",
   "execution_count": 33,
   "outputs": [
    {
     "data": {
      "text/plain": "<Figure size 1600x800 with 8 Axes>",
      "image/png": "[encoded data removed]"
     },
     "metadata": {},
     "output_type": "display_data"
    }
   ],
   "source": [
    "monthly_cols = ['OrderVolume', 'DiscountsValueGiven', 'MonthlySales', 'MonthlyProfit']\n",
    "\n",
    "# Create 2 x 4 subplots\n",
    "fig, axes = plt.subplots(2, 4, figsize=(16, 8))\n",
    "\n",
    "# Create histograms in the first row\n",
    "for i, col in enumerate(monthly_cols):\n",
    "    sns.histplot(monthly_df[col], ax=axes[0, i], color='blue')\n",
    "    axes[0, i].set_title(f'Histogram of {col}')\n",
    "    axes[0, i].set_xlabel(col)\n",
    "\n",
    "# Create box plots in the second row\n",
    "for i, col in enumerate(monthly_cols):\n",
    "    sns.boxplot(data=monthly_df, x=col, ax=axes[1, i], color='red')\n",
    "    axes[1, i].set_title(f'Box Plot of {col}')\n",
    "    axes[1, i].set_ylabel(col)\n",
    "\n",
    "plt.tight_layout()\n",
    "plt.show()"
   ],
   "metadata": {
    "collapsed": false
   }
  },
  {
   "cell_type": "code",
   "execution_count": 35,
   "outputs": [
    {
     "name": "stdout",
     "output_type": "stream",
     "text": [
      "Normal Variables:\n",
      "\t * \"OrderVolume\"\n",
      "\t * \"DiscountsValueGiven\"\n",
      "\t * \"MonthlySales\"\n",
      "\t * \"MonthlyProfit\"\n"
     ]
    }
   ],
   "source": [
    "# Shapiro-Wilk test for normality of the variables within monthly_df\n",
    "print(\"Normal Variables:\")\n",
    "for label in monthly_cols:\n",
    "    _, p = st.shapiro(monthly_df[\"MonthlyProfit\"])\n",
    "    if p > .05:\n",
    "        print('\\t * \"{}\"'.format(label))"
   ],
   "metadata": {
    "collapsed": false
   }
  },
  {
   "cell_type": "code",
   "execution_count": 8,
   "outputs": [],
   "source": [],
   "metadata": {
    "collapsed": false
   }
  },
  {
   "cell_type": "code",
   "execution_count": 8,
   "outputs": [],
   "source": [],
   "metadata": {
    "collapsed": false
   }
  },
  {
   "cell_type": "code",
   "execution_count": 8,
   "outputs": [],
   "source": [],
   "metadata": {
    "collapsed": false
   }
  },
  {
   "cell_type": "markdown",
   "source": [
    "### III. Categorical Analysis"
   ],
   "metadata": {
    "collapsed": false
   }
  },
  {
   "cell_type": "code",
   "execution_count": 37,
   "outputs": [
    {
     "data": {
      "text/plain": "         Department     Division  DivisionVolume  AveragePurchase  \\\n0        Technology      Copiers              68          2198.94   \n1        Technology       Phones             889           371.21   \n2        Technology  Accessories             775           215.97   \n3   Office Supplies        Paper            1370            57.28   \n4   Office Supplies      Binders            1523           133.56   \n5         Furniture       Chairs             617           532.33   \n6   Office Supplies      Storage             846           264.59   \n7   Office Supplies   Appliances             466           230.76   \n8         Furniture  Furnishings             957            95.83   \n9   Office Supplies    Envelopes             254            64.87   \n10  Office Supplies          Art             796            34.07   \n11  Office Supplies       Labels             364            34.30   \n12       Technology     Machines             115          1645.55   \n13  Office Supplies    Fasteners             217            13.94   \n14  Office Supplies     Supplies             190           245.65   \n15        Furniture    Bookcases             228           503.86   \n16        Furniture       Tables             319           648.79   \n\n    DivisionSales  DiscountsValueGiven  DivisionProfit  \n0       149528.03                11.00        55617.82  \n1       330007.05               137.40        44515.73  \n2       167380.32                60.80        41936.64  \n3        78479.21               102.60        34053.57  \n4       203412.73               567.00        30221.76  \n5       328449.10               105.00        26590.17  \n6       223843.61                63.20        21278.83  \n7       107532.16                77.60        18138.01  \n8        91705.16               132.40        13059.14  \n9        16476.40                20.40         6964.18  \n10       27118.79                59.60         6527.79  \n11       12486.31                25.00         5546.25  \n12      189238.63                35.20         3384.76  \n13        3024.28                17.80          949.52  \n14       46673.54                14.60        -1189.10  \n15      114880.00                48.14        -3472.56  \n16      206965.53                83.35       -17725.48  ",
      "text/html": "<div>\n<style scoped>\n    .dataframe tbody tr th:only-of-type {\n        vertical-align: middle;\n    }\n\n    .dataframe tbody tr th {\n        vertical-align: top;\n    }\n\n    .dataframe thead th {\n        text-align: right;\n    }\n</style>\n<table border=\"1\" class=\"dataframe\">\n  <thead>\n    <tr style=\"text-align: right;\">\n      <th></th>\n      <th>Department</th>\n      <th>Division</th>\n      <th>DivisionVolume</th>\n      <th>AveragePurchase</th>\n      <th>DivisionSales</th>\n      <th>DiscountsValueGiven</th>\n      <th>DivisionProfit</th>\n    </tr>\n  </thead>\n  <tbody>\n    <tr>\n      <th>0</th>\n      <td>Technology</td>\n      <td>Copiers</td>\n      <td>68</td>\n      <td>2198.94</td>\n      <td>149528.03</td>\n      <td>11.00</td>\n      <td>55617.82</td>\n    </tr>\n    <tr>\n      <th>1</th>\n      <td>Technology</td>\n      <td>Phones</td>\n      <td>889</td>\n      <td>371.21</td>\n      <td>330007.05</td>\n      <td>137.40</td>\n      <td>44515.73</td>\n    </tr>\n    <tr>\n      <th>2</th>\n      <td>Technology</td>\n      <td>Accessories</td>\n      <td>775</td>\n      <td>215.97</td>\n      <td>167380.32</td>\n      <td>60.80</td>\n      <td>41936.64</td>\n    </tr>\n    <tr>\n      <th>3</th>\n      <td>Office Supplies</td>\n      <td>Paper</td>\n      <td>1370</td>\n      <td>57.28</td>\n      <td>78479.21</td>\n      <td>102.60</td>\n      <td>34053.57</td>\n    </tr>\n    <tr>\n      <th>4</th>\n      <td>Office Supplies</td>\n      <td>Binders</td>\n      <td>1523</td>\n      <td>133.56</td>\n      <td>203412.73</td>\n      <td>567.00</td>\n      <td>30221.76</td>\n    </tr>\n    <tr>\n      <th>5</th>\n      <td>Furniture</td>\n      <td>Chairs</td>\n      <td>617</td>\n      <td>532.33</td>\n      <td>328449.10</td>\n      <td>105.00</td>\n      <td>26590.17</td>\n    </tr>\n    <tr>\n      <th>6</th>\n      <td>Office Supplies</td>\n      <td>Storage</td>\n      <td>846</td>\n      <td>264.59</td>\n      <td>223843.61</td>\n      <td>63.20</td>\n      <td>21278.83</td>\n    </tr>\n    <tr>\n      <th>7</th>\n      <td>Office Supplies</td>\n      <td>Appliances</td>\n      <td>466</td>\n      <td>230.76</td>\n      <td>107532.16</td>\n      <td>77.60</td>\n      <td>18138.01</td>\n    </tr>\n    <tr>\n      <th>8</th>\n      <td>Furniture</td>\n      <td>Furnishings</td>\n      <td>957</td>\n      <td>95.83</td>\n      <td>91705.16</td>\n      <td>132.40</td>\n      <td>13059.14</td>\n    </tr>\n    <tr>\n      <th>9</th>\n      <td>Office Supplies</td>\n      <td>Envelopes</td>\n      <td>254</td>\n      <td>64.87</td>\n      <td>16476.40</td>\n      <td>20.40</td>\n      <td>6964.18</td>\n    </tr>\n    <tr>\n      <th>10</th>\n      <td>Office Supplies</td>\n      <td>Art</td>\n      <td>796</td>\n      <td>34.07</td>\n      <td>27118.79</td>\n      <td>59.60</td>\n      <td>6527.79</td>\n    </tr>\n    <tr>\n      <th>11</th>\n      <td>Office Supplies</td>\n      <td>Labels</td>\n      <td>364</td>\n      <td>34.30</td>\n      <td>12486.31</td>\n      <td>25.00</td>\n      <td>5546.25</td>\n    </tr>\n    <tr>\n      <th>12</th>\n      <td>Technology</td>\n      <td>Machines</td>\n      <td>115</td>\n      <td>1645.55</td>\n      <td>189238.63</td>\n      <td>35.20</td>\n      <td>3384.76</td>\n    </tr>\n    <tr>\n      <th>13</th>\n      <td>Office Supplies</td>\n      <td>Fasteners</td>\n      <td>217</td>\n      <td>13.94</td>\n      <td>3024.28</td>\n      <td>17.80</td>\n      <td>949.52</td>\n    </tr>\n    <tr>\n      <th>14</th>\n      <td>Office Supplies</td>\n      <td>Supplies</td>\n      <td>190</td>\n      <td>245.65</td>\n      <td>46673.54</td>\n      <td>14.60</td>\n      <td>-1189.10</td>\n    </tr>\n    <tr>\n      <th>15</th>\n      <td>Furniture</td>\n      <td>Bookcases</td>\n      <td>228</td>\n      <td>503.86</td>\n      <td>114880.00</td>\n      <td>48.14</td>\n      <td>-3472.56</td>\n    </tr>\n    <tr>\n      <th>16</th>\n      <td>Furniture</td>\n      <td>Tables</td>\n      <td>319</td>\n      <td>648.79</td>\n      <td>206965.53</td>\n      <td>83.35</td>\n      <td>-17725.48</td>\n    </tr>\n  </tbody>\n</table>\n</div>"
     },
     "execution_count": 37,
     "metadata": {},
     "output_type": "execute_result"
    }
   ],
   "source": [
    "# Category-SubCategory Financials (CSCF)\n",
    "cscf_df = pd.read_sql_table(table_name='categorical_finances', con=engine.connect())\n",
    "cscf_df"
   ],
   "metadata": {
    "collapsed": false
   }
  },
  {
   "cell_type": "code",
   "execution_count": 42,
   "outputs": [
    {
     "data": {
      "text/plain": "                 DepartmentVolume  DepartmentSales  DepartmentProfit\nDepartment                                                          \nFurniture                    2121        741999.79          18451.27\nOffice Supplies              6026        719047.03         122490.81\nTechnology                   1847        836154.03         145454.95",
      "text/html": "<div>\n<style scoped>\n    .dataframe tbody tr th:only-of-type {\n        vertical-align: middle;\n    }\n\n    .dataframe tbody tr th {\n        vertical-align: top;\n    }\n\n    .dataframe thead th {\n        text-align: right;\n    }\n</style>\n<table border=\"1\" class=\"dataframe\">\n  <thead>\n    <tr style=\"text-align: right;\">\n      <th></th>\n      <th>DepartmentVolume</th>\n      <th>DepartmentSales</th>\n      <th>DepartmentProfit</th>\n    </tr>\n    <tr>\n      <th>Department</th>\n      <th></th>\n      <th></th>\n      <th></th>\n    </tr>\n  </thead>\n  <tbody>\n    <tr>\n      <th>Furniture</th>\n      <td>2121</td>\n      <td>741999.79</td>\n      <td>18451.27</td>\n    </tr>\n    <tr>\n      <th>Office Supplies</th>\n      <td>6026</td>\n      <td>719047.03</td>\n      <td>122490.81</td>\n    </tr>\n    <tr>\n      <th>Technology</th>\n      <td>1847</td>\n      <td>836154.03</td>\n      <td>145454.95</td>\n    </tr>\n  </tbody>\n</table>\n</div>"
     },
     "execution_count": 42,
     "metadata": {},
     "output_type": "execute_result"
    }
   ],
   "source": [
    "cat_df = cscf_df[['Department', 'DivisionVolume', 'DivisionSales', 'DivisionProfit']].groupby(by=\"Department\").sum()\n",
    "cat_df = cat_df.rename(mapper={'DivisionVolume':'DepartmentVolume', 'DivisionSales':'DepartmentSales', 'DivisionProfit':'DepartmentProfit'}, axis=1)\n",
    "cat_df"
   ],
   "metadata": {
    "collapsed": false
   }
  },
  {
   "cell_type": "code",
   "execution_count": null,
   "outputs": [],
   "source": [
    "# TODO: Recreate Pie Charts"
   ],
   "metadata": {
    "collapsed": false
   }
  },
  {
   "cell_type": "markdown",
   "source": [
    "**INSIGHT**: Technology makes up the smallest portion (< 20%) of orders, but accounts for about 30% of all Sales, and just over 50% of all Profits. Copiers, in particular, such the *Brother DCP1000* are the most profitable tech product our Superstore has to offer."
   ],
   "metadata": {
    "collapsed": false
   }
  },
  {
   "cell_type": "code",
   "execution_count": 26,
   "outputs": [
    {
     "data": {
      "text/plain": "<Figure size 800x600 with 2 Axes>",
      "image/png": "[encoded data removed]"
     },
     "metadata": {},
     "output_type": "display_data"
    }
   ],
   "source": [
    "# Correlation matrix for numerical features in cat_df\n",
    "corr_obj = cscf_df.drop(labels=['Department', 'Division'], axis=1, inplace=False).corr()\n",
    "corr_obj\n",
    "\n",
    "# Upper triangular mask\n",
    "mask = np.triu(np.ones_like(corr_obj, dtype=bool))\n",
    "\n",
    "# Plot heatmap of correlations, applying mask to reduce visual clutter\n",
    "plt.figure(figsize=(8, 6))\n",
    "sns.heatmap(corr_obj, annot=True, fmt=\".2f\", cmap='coolwarm', mask=mask)\n",
    "\n",
    "plt.title(\"Correlations Among Categorical Aggregates\")\n",
    "plt.show()"
   ],
   "metadata": {
    "collapsed": false
   }
  },
  {
   "cell_type": "markdown",
   "source": [
    "**INSIGHT** Though not surprising - and hardly an insight at all - ```DiscountsValueGiven``` shows moderately high correlation (72%) with ```DivisionVolume```. So, application of discounts are likely to be accompanied by an increase the number of orders a Department (Category) or Division (Sub-Category) closes on."
   ],
   "metadata": {
    "collapsed": false
   }
  },
  {
   "cell_type": "code",
   "execution_count": null,
   "outputs": [],
   "source": [],
   "metadata": {
    "collapsed": false
   }
  },
  {
   "cell_type": "code",
   "execution_count": null,
   "outputs": [],
   "source": [
    "# TODO: Investigate who is buying copiers!"
   ],
   "metadata": {
    "collapsed": false
   }
  }
 ],
 "metadata": {
  "kernelspec": {
   "display_name": "Python 3",
   "language": "python",
   "name": "python3"
  },
  "language_info": {
   "codemirror_mode": {
    "name": "ipython",
    "version": 2
   },
   "file_extension": ".py",
   "mimetype": "text/x-python",
   "name": "python",
   "nbconvert_exporter": "python",
   "pygments_lexer": "ipython2",
   "version": "2.7.6"
  }
 },
 "nbformat": 4,
 "nbformat_minor": 0
}
