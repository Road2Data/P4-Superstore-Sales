{
 "cells": [
  {
   "cell_type": "markdown",
   "source": [
    "# Cluster Analysis"
   ],
   "metadata": {
    "collapsed": false
   },
   "execution_count": 1
  },
  {
   "cell_type": "code",
   "execution_count": 36,
   "outputs": [],
   "source": [
    "import warnings\n",
    "warnings.filterwarnings('ignore')\n",
    "\n",
    "from helper_funcs import *\n",
    "from sqlalchemy import create_engine\n",
    "\n",
    "import numpy as np\n",
    "import scipy.stats as st\n",
    "import pandas as pd"
   ],
   "metadata": {
    "collapsed": false
   }
  },
  {
   "cell_type": "code",
   "execution_count": 3,
   "outputs": [],
   "source": [
    "# SQLAlchemy Engine\n",
    "engine = create_engine(generate_url())"
   ],
   "metadata": {
    "collapsed": false
   }
  },
  {
   "cell_type": "code",
   "execution_count": 4,
   "outputs": [
    {
     "name": "stdout",
     "output_type": "stream",
     "text": [
      "<class 'pandas.core.frame.DataFrame'>\n",
      "RangeIndex: 8058 entries, 0 to 8057\n",
      "Data columns (total 10 columns):\n",
      " #   Column      Non-Null Count  Dtype  \n",
      "---  ------      --------------  -----  \n",
      " 0   OrderYear   8058 non-null   int64  \n",
      " 1   OrderMonth  8058 non-null   int64  \n",
      " 2   ShipMode    8058 non-null   object \n",
      " 3   DaysToShip  8058 non-null   int64  \n",
      " 4   Segment     8058 non-null   object \n",
      " 5   Region      8058 non-null   object \n",
      " 6   State       8058 non-null   object \n",
      " 7   Department  8058 non-null   object \n",
      " 8   Division    8058 non-null   object \n",
      " 9   Profit      8058 non-null   float64\n",
      "dtypes: float64(1), int64(3), object(6)\n",
      "memory usage: 629.7+ KB\n"
     ]
    }
   ],
   "source": [
    "features = pd.read_sql_table(table_name='features', con=engine.connect())\n",
    "features.info()"
   ],
   "metadata": {
    "collapsed": false
   }
  },
  {
   "cell_type": "markdown",
   "source": [
    "Our goal here, is to cluster a mixture of numerical and categorical data. This presents a bit of hiccup, since many"
   ],
   "metadata": {
    "collapsed": false
   }
  },
  {
   "cell_type": "code",
   "execution_count": null,
   "outputs": [],
   "source": [],
   "metadata": {
    "collapsed": false
   }
  }
 ],
 "metadata": {
  "kernelspec": {
   "display_name": "Python 3",
   "language": "python",
   "name": "python3"
  },
  "language_info": {
   "codemirror_mode": {
    "name": "ipython",
    "version": 2
   },
   "file_extension": ".py",
   "mimetype": "text/x-python",
   "name": "python",
   "nbconvert_exporter": "python",
   "pygments_lexer": "ipython2",
   "version": "2.7.6"
  }
 },
 "nbformat": 4,
 "nbformat_minor": 0
}
