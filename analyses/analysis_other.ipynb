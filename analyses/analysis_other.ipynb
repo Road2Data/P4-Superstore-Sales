{
 "cells": [
  {
   "cell_type": "markdown",
   "source": [
    "# Cluster Analysis"
   ],
   "metadata": {
    "collapsed": false
   },
   "execution_count": 1
  },
  {
   "cell_type": "code",
   "execution_count": 99,
   "outputs": [],
   "source": [
    "import warnings\n",
    "warnings.filterwarnings('ignore')\n",
    "\n",
    "from helper_funcs import *\n",
    "from sqlalchemy import create_engine\n",
    "\n",
    "import numpy as np\n",
    "import scipy.stats as st\n",
    "import pandas as pd\n",
    "import matplotlib.pyplot as plt"
   ],
   "metadata": {
    "collapsed": false
   }
  },
  {
   "cell_type": "code",
   "execution_count": 2,
   "outputs": [],
   "source": [
    "# SQLAlchemy Engine\n",
    "engine = create_engine(generate_url())"
   ],
   "metadata": {
    "collapsed": false
   }
  },
  {
   "cell_type": "code",
   "execution_count": 46,
   "outputs": [
    {
     "data": {
      "text/plain": "   OrderYear  OrderMonth  DaysToShip    Segment   Region        State  \\\n0       2015          11           4  Corporate     East      Vermont   \n1       2016           1           4  Corporate  Central    Wisconsin   \n2       2017           5           4   Consumer    South      Georgia   \n3       2016           6           2   Consumer    South      Georgia   \n4       2016          10           0  Corporate     East  Connecticut   \n\n  Department   Division   Profit  \n0  Furniture  Bookcases  1013.13  \n1  Furniture  Bookcases   407.13  \n2  Furniture  Bookcases   374.63  \n3  Furniture  Bookcases   291.38  \n4  Furniture  Bookcases   271.42  ",
      "text/html": "<div>\n<style scoped>\n    .dataframe tbody tr th:only-of-type {\n        vertical-align: middle;\n    }\n\n    .dataframe tbody tr th {\n        vertical-align: top;\n    }\n\n    .dataframe thead th {\n        text-align: right;\n    }\n</style>\n<table border=\"1\" class=\"dataframe\">\n  <thead>\n    <tr style=\"text-align: right;\">\n      <th></th>\n      <th>OrderYear</th>\n      <th>OrderMonth</th>\n      <th>DaysToShip</th>\n      <th>Segment</th>\n      <th>Region</th>\n      <th>State</th>\n      <th>Department</th>\n      <th>Division</th>\n      <th>Profit</th>\n    </tr>\n  </thead>\n  <tbody>\n    <tr>\n      <th>0</th>\n      <td>2015</td>\n      <td>11</td>\n      <td>4</td>\n      <td>Corporate</td>\n      <td>East</td>\n      <td>Vermont</td>\n      <td>Furniture</td>\n      <td>Bookcases</td>\n      <td>1013.13</td>\n    </tr>\n    <tr>\n      <th>1</th>\n      <td>2016</td>\n      <td>1</td>\n      <td>4</td>\n      <td>Corporate</td>\n      <td>Central</td>\n      <td>Wisconsin</td>\n      <td>Furniture</td>\n      <td>Bookcases</td>\n      <td>407.13</td>\n    </tr>\n    <tr>\n      <th>2</th>\n      <td>2017</td>\n      <td>5</td>\n      <td>4</td>\n      <td>Consumer</td>\n      <td>South</td>\n      <td>Georgia</td>\n      <td>Furniture</td>\n      <td>Bookcases</td>\n      <td>374.63</td>\n    </tr>\n    <tr>\n      <th>3</th>\n      <td>2016</td>\n      <td>6</td>\n      <td>2</td>\n      <td>Consumer</td>\n      <td>South</td>\n      <td>Georgia</td>\n      <td>Furniture</td>\n      <td>Bookcases</td>\n      <td>291.38</td>\n    </tr>\n    <tr>\n      <th>4</th>\n      <td>2016</td>\n      <td>10</td>\n      <td>0</td>\n      <td>Corporate</td>\n      <td>East</td>\n      <td>Connecticut</td>\n      <td>Furniture</td>\n      <td>Bookcases</td>\n      <td>271.42</td>\n    </tr>\n  </tbody>\n</table>\n</div>"
     },
     "execution_count": 46,
     "metadata": {},
     "output_type": "execute_result"
    }
   ],
   "source": [
    "df = pd.read_sql_table(table_name='features', con=engine.connect())\n",
    "df.head(5)"
   ],
   "metadata": {
    "collapsed": false
   }
  },
  {
   "cell_type": "code",
   "execution_count": 4,
   "outputs": [
    {
     "data": {
      "text/plain": "(8058, 9)"
     },
     "execution_count": 4,
     "metadata": {},
     "output_type": "execute_result"
    }
   ],
   "source": [
    "df.shape"
   ],
   "metadata": {
    "collapsed": false
   }
  },
  {
   "cell_type": "code",
   "execution_count": 59,
   "outputs": [
    {
     "name": "stdout",
     "output_type": "stream",
     "text": [
      "Categorical Features: ['Segment', 'Region', 'State', 'Department', 'Division']\n"
     ]
    }
   ],
   "source": [
    "# Detect columns as either numeric or categorical\n",
    "num_cols = df.select_dtypes(exclude='object').columns.tolist()\n",
    "cat_cols = df.select_dtypes(include='object').columns.tolist()\n",
    "\n",
    "print('Categorical Features:', cat_cols)\n",
    "#cat_cols.tolist()"
   ],
   "metadata": {
    "collapsed": false
   }
  },
  {
   "cell_type": "markdown",
   "source": [
    "#### KMeans with Recoded Categorical Variables\n",
    "\n",
    "SKLearn's OneHotEncoder may work too, but for our purposes, we're gonna do this quick and dirty."
   ],
   "metadata": {
    "collapsed": false
   }
  },
  {
   "cell_type": "code",
   "execution_count": 128,
   "outputs": [
    {
     "name": "stdout",
     "output_type": "stream",
     "text": [
      "<class 'pandas.core.frame.DataFrame'>\n",
      "Int64Index: 8058 entries, 0 to 8057\n",
      "Data columns (total 80 columns):\n",
      " #   Column                      Non-Null Count  Dtype  \n",
      "---  ------                      --------------  -----  \n",
      " 0   OrderYear                   8058 non-null   float64\n",
      " 1   OrderMonth                  8058 non-null   float64\n",
      " 2   DaysToShip                  8058 non-null   float64\n",
      " 3   Profit                      8058 non-null   float64\n",
      " 4   Segment_Consumer            8058 non-null   uint8  \n",
      " 5   Segment_Corporate           8058 non-null   uint8  \n",
      " 6   Segment_Home Office         8058 non-null   uint8  \n",
      " 7   Region_Central              8058 non-null   uint8  \n",
      " 8   Region_East                 8058 non-null   uint8  \n",
      " 9   Region_South                8058 non-null   uint8  \n",
      " 10  Region_West                 8058 non-null   uint8  \n",
      " 11  State_Alabama               8058 non-null   uint8  \n",
      " 12  State_Arizona               8058 non-null   uint8  \n",
      " 13  State_Arkansas              8058 non-null   uint8  \n",
      " 14  State_California            8058 non-null   uint8  \n",
      " 15  State_Colorado              8058 non-null   uint8  \n",
      " 16  State_Connecticut           8058 non-null   uint8  \n",
      " 17  State_Delaware              8058 non-null   uint8  \n",
      " 18  State_District of Columbia  8058 non-null   uint8  \n",
      " 19  State_Florida               8058 non-null   uint8  \n",
      " 20  State_Georgia               8058 non-null   uint8  \n",
      " 21  State_Idaho                 8058 non-null   uint8  \n",
      " 22  State_Illinois              8058 non-null   uint8  \n",
      " 23  State_Indiana               8058 non-null   uint8  \n",
      " 24  State_Iowa                  8058 non-null   uint8  \n",
      " 25  State_Kansas                8058 non-null   uint8  \n",
      " 26  State_Kentucky              8058 non-null   uint8  \n",
      " 27  State_Louisiana             8058 non-null   uint8  \n",
      " 28  State_Maine                 8058 non-null   uint8  \n",
      " 29  State_Maryland              8058 non-null   uint8  \n",
      " 30  State_Massachusetts         8058 non-null   uint8  \n",
      " 31  State_Michigan              8058 non-null   uint8  \n",
      " 32  State_Minnesota             8058 non-null   uint8  \n",
      " 33  State_Mississippi           8058 non-null   uint8  \n",
      " 34  State_Missouri              8058 non-null   uint8  \n",
      " 35  State_Montana               8058 non-null   uint8  \n",
      " 36  State_Nebraska              8058 non-null   uint8  \n",
      " 37  State_Nevada                8058 non-null   uint8  \n",
      " 38  State_New Hampshire         8058 non-null   uint8  \n",
      " 39  State_New Jersey            8058 non-null   uint8  \n",
      " 40  State_New Mexico            8058 non-null   uint8  \n",
      " 41  State_New York              8058 non-null   uint8  \n",
      " 42  State_North Carolina        8058 non-null   uint8  \n",
      " 43  State_North Dakota          8058 non-null   uint8  \n",
      " 44  State_Ohio                  8058 non-null   uint8  \n",
      " 45  State_Oklahoma              8058 non-null   uint8  \n",
      " 46  State_Oregon                8058 non-null   uint8  \n",
      " 47  State_Pennsylvania          8058 non-null   uint8  \n",
      " 48  State_Rhode Island          8058 non-null   uint8  \n",
      " 49  State_South Carolina        8058 non-null   uint8  \n",
      " 50  State_South Dakota          8058 non-null   uint8  \n",
      " 51  State_Tennessee             8058 non-null   uint8  \n",
      " 52  State_Texas                 8058 non-null   uint8  \n",
      " 53  State_Utah                  8058 non-null   uint8  \n",
      " 54  State_Vermont               8058 non-null   uint8  \n",
      " 55  State_Virginia              8058 non-null   uint8  \n",
      " 56  State_Washington            8058 non-null   uint8  \n",
      " 57  State_West Virginia         8058 non-null   uint8  \n",
      " 58  State_Wisconsin             8058 non-null   uint8  \n",
      " 59  State_Wyoming               8058 non-null   uint8  \n",
      " 60  Department_Furniture        8058 non-null   uint8  \n",
      " 61  Department_Office Supplies  8058 non-null   uint8  \n",
      " 62  Department_Technology       8058 non-null   uint8  \n",
      " 63  Division_Accessories        8058 non-null   uint8  \n",
      " 64  Division_Appliances         8058 non-null   uint8  \n",
      " 65  Division_Art                8058 non-null   uint8  \n",
      " 66  Division_Binders            8058 non-null   uint8  \n",
      " 67  Division_Bookcases          8058 non-null   uint8  \n",
      " 68  Division_Chairs             8058 non-null   uint8  \n",
      " 69  Division_Copiers            8058 non-null   uint8  \n",
      " 70  Division_Envelopes          8058 non-null   uint8  \n",
      " 71  Division_Fasteners          8058 non-null   uint8  \n",
      " 72  Division_Furnishings        8058 non-null   uint8  \n",
      " 73  Division_Labels             8058 non-null   uint8  \n",
      " 74  Division_Machines           8058 non-null   uint8  \n",
      " 75  Division_Paper              8058 non-null   uint8  \n",
      " 76  Division_Phones             8058 non-null   uint8  \n",
      " 77  Division_Storage            8058 non-null   uint8  \n",
      " 78  Division_Supplies           8058 non-null   uint8  \n",
      " 79  Division_Tables             8058 non-null   uint8  \n",
      "dtypes: float64(4), uint8(76)\n",
      "memory usage: 912.8 KB\n"
     ]
    }
   ],
   "source": [
    "# Encode categorical data with dummy variables, normalize numerical features, then concatenate back together.\n",
    "# For consistency among feature column labels, make quick adjustments.\n",
    "norm_df = pd.concat([df[num_cols].apply(st.zscore), pd.get_dummies(df[cat_cols])], axis=1)\n",
    "norm_df = norm_df.rename(mapper={s:str(s).replace(' ', '_').strip() for s in norm_df.columns})\n",
    "norm_df.info()"
   ],
   "metadata": {
    "collapsed": false
   }
  },
  {
   "cell_type": "code",
   "execution_count": 139,
   "outputs": [],
   "source": [
    "# Correct a TypeError\n",
    "norm_df.columns = norm_df.columns.astype(str)"
   ],
   "metadata": {
    "collapsed": false
   }
  },
  {
   "cell_type": "code",
   "execution_count": 137,
   "outputs": [],
   "source": [
    "inertial_vals = []\n",
    "\n",
    "K_vals  = range(1, 10)\n",
    "for k in K_vals:\n",
    "    kmeans = KMeans(k)\n",
    "    kmeans.fit(norm_df)\n",
    "    inertial_vals.append(kmeans.inertia_)\n",
    "\n",
    "plt.plot(K_vals, inertial_vals, marker='o')\n",
    "plt.title('Elbow Method for Optimal k')\n",
    "plt.xlabel('Number of Clusters (k)')\n",
    "plt.ylabel('Sum of Squared Distances (Inertia)')\n",
    "plt.show()"
   ],
   "metadata": {
    "collapsed": false
   }
  },
  {
   "cell_type": "code",
   "execution_count": 156,
   "outputs": [],
   "source": [
    "kmeans = KMeans(n_clusters=5, random_state=101).fit(norm_df)\n",
    "df['kMeans Cluster Label'] = kmeans.labels_"
   ],
   "metadata": {
    "collapsed": false
   }
  },
  {
   "cell_type": "code",
   "execution_count": 157,
   "outputs": [
    {
     "data": {
      "text/plain": "1    2411\n2    2059\n0    1989\n3    1581\n4      18\nName: kMeans Cluster Label, dtype: int64"
     },
     "execution_count": 157,
     "metadata": {},
     "output_type": "execute_result"
    }
   ],
   "source": [
    "df['kMeans Cluster Label'].value_counts()"
   ],
   "metadata": {
    "collapsed": false
   }
  },
  {
   "cell_type": "code",
   "execution_count": 158,
   "outputs": [],
   "source": [
    "# TODO: Explore possible patterns among clusters"
   ],
   "metadata": {
    "collapsed": false
   }
  },
  {
   "cell_type": "code",
   "execution_count": null,
   "outputs": [],
   "source": [],
   "metadata": {
    "collapsed": false
   }
  },
  {
   "cell_type": "code",
   "execution_count": null,
   "outputs": [],
   "source": [],
   "metadata": {
    "collapsed": false
   }
  },
  {
   "cell_type": "code",
   "execution_count": null,
   "outputs": [],
   "source": [],
   "metadata": {
    "collapsed": false
   }
  },
  {
   "cell_type": "code",
   "execution_count": 159,
   "outputs": [],
   "source": [
    "engine.connect().close()\n",
    "engine.dispose()"
   ],
   "metadata": {
    "collapsed": false
   }
  }
 ],
 "metadata": {
  "kernelspec": {
   "display_name": "Python 3",
   "language": "python",
   "name": "python3"
  },
  "language_info": {
   "codemirror_mode": {
    "name": "ipython",
    "version": 2
   },
   "file_extension": ".py",
   "mimetype": "text/x-python",
   "name": "python",
   "nbconvert_exporter": "python",
   "pygments_lexer": "ipython2",
   "version": "2.7.6"
  }
 },
 "nbformat": 4,
 "nbformat_minor": 0
}
